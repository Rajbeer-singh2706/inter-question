{
 "cells": [
  {
   "cell_type": "code",
   "execution_count": null,
   "metadata": {},
   "outputs": [],
   "source": [
    "### **Basic Python Questions**\n",
    "\n",
    "'''\n",
    "Q1) What is the difference between `list`, `tuple`, and `set` in Python?**\n",
    "A) A list is a mutable, ordered collection. \n",
    "   A tuple is an immutable, ordered collection. \n",
    "   A set is an unordered collection of unique elements.\n",
    "\n",
    "Q2) How does Python handle memory management?\n",
    "A)  Python uses an automatic memory management system that includes a private heap containing all \n",
    "    Python objects and data structures. The memory manager handles allocation and deallocation of \n",
    "    memory, and the garbage collector reclaims memory by deleting unused objects.\n",
    "\n",
    "Q3)  Explain the concept of list comprehensions with an example.\n",
    "Ans) A list comprehension provides a concise way to create lists. Example:\n",
    "   squares = [x**2 for x in range(10)]\n",
    "\n",
    "Q4)  How do you handle exceptions in Python?\n",
    "Ans) Exceptions in Python are handled using `try`, `except`, `else`, and `finally` blocks. Example:\n",
    "   try:\n",
    "       result = 10 / 0\n",
    "   except ZeroDivisionError:\n",
    "       print(\"You can't divide by zero!\")\n",
    "\n",
    "5)   What is the difference between `deepcopy` and `shallow copy`?\n",
    "Ans) A shallow copy creates a new object but inserts references into it to the objects found in the original. \n",
    "     A deep copy creates a new object and recursively copies all objects found in the original.\n",
    "\n",
    "'''"
   ]
  }
 ],
 "metadata": {
  "language_info": {
   "name": "python"
  }
 },
 "nbformat": 4,
 "nbformat_minor": 2
}
