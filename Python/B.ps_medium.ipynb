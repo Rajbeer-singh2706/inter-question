{
 "cells": [
  {
   "cell_type": "code",
   "execution_count": null,
   "metadata": {},
   "outputs": [],
   "source": [
    "### 9. **Find the Second Largest Number in a List**\n",
    "'''\n",
    "Q) Write a function that finds the second largest number in a list.\n",
    "\n",
    "def second_largest(nums):\n",
    "    first, second = float('-inf'), float('-inf')\n",
    "    for num in nums:\n",
    "        if num > first:\n",
    "            first, second = num, first\n",
    "        elif first > num > second:\n",
    "            second = num\n",
    "    return second\n",
    "\n",
    "print(second_largest([10, 20, 4, 45, 99]))  # 45\n",
    "\n",
    "'''\n",
    "\n",
    "### 10. **Group Anagrams**\n",
    "'''\n",
    "Write a function that takes a list of strings and groups anagrams together.\n",
    "#Code \n",
    "\n",
    "from collections import defaultdict\n",
    "def group_anagrams(strs):\n",
    "    anagrams = defaultdict(list)\n",
    "    for s in strs:\n",
    "        sorted_str = ''.join(sorted(s))\n",
    "        anagrams[sorted_str].append(s)\n",
    "    return list(anagrams.values())\n",
    "\n",
    "print(group_anagrams([\"eat\", \"tea\", \"tan\", \"ate\", \"nat\", \"bat\"]))\n",
    "# [['eat', 'tea', 'ate'], ['tan', 'nat'], ['bat']]\n",
    "'''"
   ]
  },
  {
   "cell_type": "code",
   "execution_count": null,
   "metadata": {},
   "outputs": [],
   "source": [
    "# 1. Find the Longest Substring Without Repeating Characters\n",
    "'''\n",
    "Problem: Given a string, find the length of the longest substring without repeating characters.\n",
    "\n",
    "Input: \"abcabcbb\"\n",
    "Output: 3 (The answer is \"abc\", with a length of 3.)\n",
    "Hint: Use a sliding window approach to solve this problem efficiently.\n",
    "'''\n"
   ]
  },
  {
   "cell_type": "code",
   "execution_count": null,
   "metadata": {},
   "outputs": [],
   "source": [
    "### 3. **Write a function to calculate the n-th Fibonacci number using recursion.**\n",
    "'''\n",
    "def fibonacci(n):\n",
    "    if n <= 0:\n",
    "        return 0\n",
    "    elif n == 1:\n",
    "        return 1\n",
    "    else:\n",
    "        return fibonacci(n-1) + fibonacci(n-2)\n",
    "\n",
    "# Example usage:\n",
    "print(fibonacci(6))  # Output: 8 (The Fibonacci sequence is 0, 1, 1, 2, 3, 5, 8)\n",
    "\n",
    "'''"
   ]
  }
 ],
 "metadata": {
  "language_info": {
   "name": "python"
  }
 },
 "nbformat": 4,
 "nbformat_minor": 2
}
