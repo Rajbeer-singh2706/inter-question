{
 "cells": [
  {
   "cell_type": "code",
   "execution_count": null,
   "metadata": {},
   "outputs": [],
   "source": [
    "### Problem 1: **Finding Duplicates in a List**\n",
    "'''\n",
    " Q) Write a Python function `find_duplicates(lst)` that takes a list of integers and returns a list of duplicate elements.\n",
    "'''\n",
    "\n",
    "lst = [1, 2, 3, 4, 4, 5, 6, 7, 7, 8, 9]\n",
    "find_duplicates(lst)  # returns [4, 7]\n"
   ]
  },
  {
   "cell_type": "code",
   "execution_count": null,
   "metadata": {},
   "outputs": [],
   "source": [
    "### Problem 2: **Anagram Checker**\n",
    "'''\n",
    "Write a Python function `are_anagrams(str1, str2)` that checks if two strings are anagrams of each other (ignore spaces and case).\n",
    "'''\n",
    "str1 = \"Listen\"\n",
    "str2 = \"Silent\"\n",
    "are_anagrams(str1, str2)  # returns True\n"
   ]
  },
  {
   "cell_type": "code",
   "execution_count": null,
   "metadata": {},
   "outputs": [],
   "source": [
    "### Problem 3: **Binary Search**\n",
    "'''\n",
    " Q) Implement the binary search algorithm in Python. The function `binary_search(arr, target)` should return the index of `target` \n",
    " in a sorted array, or `-1` if not found.\n",
    "'''\n",
    "\n",
    "arr = [1, 3, 5, 7, 9, 11, 13]\n",
    "target = 7\n",
    "binary_search(arr, target)  # returns 3"
   ]
  },
  {
   "cell_type": "code",
   "execution_count": null,
   "metadata": {},
   "outputs": [],
   "source": [
    "### Problem 4: **Flatten a Nested List**\n",
    "'''\n",
    " Q) Write a Python function `flatten(lst)` that takes a nested list of integers and returns a flattened version of the list \n",
    " (i.e., no nested lists).\n",
    "'''\n",
    "lst = [1, [2, [3, 4], 5], 6]\n",
    "flatten(lst)  # returns [1, 2, 3, 4, 5, 6]\n",
    "```\n"
   ]
  },
  {
   "cell_type": "code",
   "execution_count": null,
   "metadata": {},
   "outputs": [],
   "source": [
    "### Problem 5: **Group Anagrams**\n",
    "'''Write a function `group_anagrams(words)` that groups anagrams from a list of strings.'''\n",
    "\n",
    "words = [\"eat\", \"tea\", \"tan\", \"ate\", \"nat\", \"bat\"]\n",
    "group_anagrams(words)\n",
    "# returns [['eat', 'tea', 'ate'], ['tan', 'nat'], ['bat']]\n"
   ]
  },
  {
   "cell_type": "code",
   "execution_count": null,
   "metadata": {},
   "outputs": [],
   "source": [
    "### Problem 6: **Fibonacci with Memoization**\n",
    "'''\n",
    " Q)Write a Python function `fibonacci(n)` that calculates the `n`th Fibonacci number using memoization to optimize performance.\n",
    "'''\n",
    "fibonacci(10)  # returns 55"
   ]
  },
  {
   "cell_type": "code",
   "execution_count": null,
   "metadata": {},
   "outputs": [],
   "source": [
    "### Problem 7: **Merge Two Sorted Lists**\n",
    "'''\n",
    "Q) Given two sorted lists of integers, `lst1` and `lst2`, write a function `merge_sorted_lists(lst1, lst2)` \n",
    "that merges them into one sorted list.\n",
    "'''\n",
    "\n",
    "lst1 = [1, 3, 5, 7]\n",
    "lst2 = [2, 4, 6, 8]\n",
    "merge_sorted_lists(lst1, lst2)  # returns [1, 2, 3, 4, 5, 6, 7, 8]\n"
   ]
  },
  {
   "cell_type": "code",
   "execution_count": null,
   "metadata": {},
   "outputs": [],
   "source": [
    "### Problem 8: **Find the Longest Palindromic Substring**\n",
    "'''\n",
    " Q) Write a Python function `longest_palindromic_substring(s)` that takes a string `s` and returns the longest palindromic substring.\n",
    "'''\n",
    "\n",
    "s = \"babad\"\n",
    "longest_palindromic_substring(s)  # returns \"bab\" or \"aba\""
   ]
  },
  {
   "cell_type": "code",
   "execution_count": null,
   "metadata": {},
   "outputs": [],
   "source": [
    "### Problem 9: **Rotating a Matrix**\n",
    "'''\n",
    "Q) Write a Python function `rotate_matrix(matrix)` that rotates an `n x n` matrix 90 degrees clockwise.\n",
    "'''\n",
    "\n",
    "matrix = [\n",
    "    [1, 2, 3],\n",
    "    [4, 5, 6],\n",
    "    [7, 8, 9]\n",
    "]\n",
    "rotate_matrix(matrix)\n",
    "# Output:\n",
    "# [\n",
    "#   [7, 4, 1],\n",
    "#   [8, 5, 2],\n",
    "#   [9, 6, 3]\n",
    "# ]"
   ]
  },
  {
   "cell_type": "code",
   "execution_count": null,
   "metadata": {},
   "outputs": [],
   "source": [
    "### Problem 10: **Top K Frequent Elements**\n",
    "'''\n",
    "Q) Write a Python function `top_k_frequent(nums, k)` that returns the `k` most frequent elements from a list of integers `nums`.\n",
    "'''\n",
    "nums = [1, 1, 1, 2, 2, 3]\n",
    "k = 2\n",
    "top_k_frequent(nums, k)  # returns [1, 2]"
   ]
  },
  {
   "cell_type": "code",
   "execution_count": null,
   "metadata": {},
   "outputs": [],
   "source": [
    "\n",
    "### Problem 11: **Sum of Pairs**\n",
    "**Task:**  \n",
    "Write a function `find_pairs_with_sum(lst, target)` that takes a list of integers `lst` and an integer `target`, and returns a list of all pairs (as tuples) that add up to the `target`.\n",
    "\n",
    "**Example:**\n",
    "```python\n",
    "lst = [2, 4, 3, 5, 7, 8, 9]\n",
    "target = 10\n",
    "find_pairs_with_sum(lst, target)  # returns [(3, 7), (2, 8)]\n",
    "```\n"
   ]
  },
  {
   "cell_type": "code",
   "execution_count": null,
   "metadata": {},
   "outputs": [],
   "source": [
    "### Problem 12: **Sorting a Dictionary by Value**\n",
    "'''\n",
    "Q) Write a Python function `sort_dict_by_value(d)` that takes a dictionary `d` and returns a list of key-value pairs, sorted by value.\n",
    "'''\n",
    "d = {'a': 2, 'b': 1, 'c': 3}\n",
    "sort_dict_by_value(d)  # returns [('b', 1), ('a', 2), ('c', 3)]"
   ]
  }
 ],
 "metadata": {
  "language_info": {
   "name": "python"
  }
 },
 "nbformat": 4,
 "nbformat_minor": 2
}
