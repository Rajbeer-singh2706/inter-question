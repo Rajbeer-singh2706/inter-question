{
 "cells": [
  {
   "cell_type": "code",
   "execution_count": null,
   "metadata": {},
   "outputs": [],
   "source": [
    "#Problem1\n",
    "# Input  => 0,1,3,4,5,6,7,8,9\n",
    "# Output => {0:1,1:2,2:3,3:4,4:5,5:6,6:7,7:8,8:9,9:10}"
   ]
  },
  {
   "cell_type": "code",
   "execution_count": null,
   "metadata": {},
   "outputs": [],
   "source": [
    "# PS2. Sum index to index \n",
    "a = [1,2,3]\n",
    "b = [7,8,9]\n",
    "c = [8,10,12] "
   ]
  },
  {
   "cell_type": "code",
   "execution_count": null,
   "metadata": {},
   "outputs": [],
   "source": [
    "#Ps. Reverse a list\n",
    "my_list = [1, 2, 3, 4, 5]\n",
    "my_list.reverse()  # In-place reversal\n",
    "\n",
    "# or\n",
    "reversed_list = my_list[::-1]  # Slicing method"
   ]
  },
  {
   "cell_type": "code",
   "execution_count": null,
   "metadata": {},
   "outputs": [],
   "source": [
    "### 1. Palindrome Check\n",
    "#Write a function that checks whether a given string is a palindrome (a word, phrase, or sequence that reads the same backward as forward).\n",
    "\n",
    "def is_palindrome(s):\n",
    "    return s == s[::-1]\n",
    "\n",
    "print(is_palindrome(\"racecar\"))  # True\n",
    "print(is_palindrome(\"hello\"))    # False\n",
    "\n",
    "\n",
    "### 2. Write a function that checks whether a string is a palindrome.\n",
    "\n",
    "def is_palindrome(s):\n",
    "    # Normalize the string: remove spaces and convert to lowercase\n",
    "    s = s.replace(\" \", \"\").lower()\n",
    "    \n",
    "    # Check if the string reads the same forward and backward\n",
    "    return s == s[::-1]\n",
    "\n",
    "# Example usage:\n",
    "print(is_palindrome(\"A man a plan a canal Panama\"))  # Output: True\n",
    "print(is_palindrome(\"hello\"))  # Output: False"
   ]
  },
  {
   "cell_type": "code",
   "execution_count": null,
   "metadata": {},
   "outputs": [],
   "source": [
    "### 2. Fibonacci Sequence\n",
    "#Problem: Write a function that generates the first `n` numbers in the Fibonacci sequence.\n",
    "def fibonacci(n):\n",
    "    fib_sequence = [0, 1]\n",
    "    while len(fib_sequence) < n:\n",
    "        fib_sequence.append(fib_sequence[-1] + fib_sequence[-2])\n",
    "    return fib_sequence[:n]\n",
    "\n",
    "print(fibonacci(5))  # [0, 1, 1, 2, 3]"
   ]
  },
  {
   "cell_type": "code",
   "execution_count": null,
   "metadata": {},
   "outputs": [],
   "source": [
    "### 3. Find the Missing Number\n",
    "#Problem: Given a list of `n-1` integers in the range from `1` to `n`, write a function to find the missing number.\n",
    "def find_missing_number(nums):\n",
    "    n = len(nums) + 1\n",
    "    expected_sum = n * (n + 1) // 2\n",
    "    actual_sum = sum(nums)\n",
    "    return expected_sum - actual_sum\n",
    "\n",
    "print(find_missing_number([1, 2, 4, 5, 6]))  # 3\n"
   ]
  },
  {
   "cell_type": "code",
   "execution_count": null,
   "metadata": {},
   "outputs": [],
   "source": [
    "### 4. Anagram Check\n",
    "#Problem: Write a function to check if two strings are anagrams of each other.\n",
    "def are_anagrams(s1, s2):\n",
    "    return sorted(s1) == sorted(s2)\n",
    "\n",
    "print(are_anagrams(\"listen\", \"silent\"))  # True\n",
    "print(are_anagrams(\"hello\", \"world\"))    # False\n"
   ]
  },
  {
   "cell_type": "code",
   "execution_count": null,
   "metadata": {},
   "outputs": [],
   "source": [
    "### 5. Find Duplicates in a List\n",
    "## Write a function that takes a list and returns a list of all duplicates in it.\n",
    "\n",
    "def find_duplicates(lst):\n",
    "    seen = set()\n",
    "    duplicates = set()\n",
    "    for item in lst:\n",
    "        if item in seen:\n",
    "            duplicates.add(item)\n",
    "        else:\n",
    "            seen.add(item)\n",
    "    return list(duplicates)\n",
    "\n",
    "print(find_duplicates([1, 2, 3, 4, 5, 3, 2]))  # [2, 3]"
   ]
  },
  {
   "cell_type": "code",
   "execution_count": null,
   "metadata": {},
   "outputs": [],
   "source": [
    "### 6. Merge Two Sorted Lists\n",
    "## Write a function that merges two sorted lists into one sorted list.\n",
    "\n",
    "def merge_sorted_lists(lst1, lst2):\n",
    "    merged_list = []\n",
    "    i = j = 0\n",
    "    while i < len(lst1) and j < len(lst2):\n",
    "        if lst1[i] < lst2[j]:\n",
    "            merged_list.append(lst1[i])\n",
    "            i += 1\n",
    "        else:\n",
    "            merged_list.append(lst2[j])\n",
    "            j += 1\n",
    "    merged_list.extend(lst1[i:])\n",
    "    merged_list.extend(lst2[j:])\n",
    "    return merged_list\n",
    "\n",
    "print(merge_sorted_lists([1, 3, 5], [2, 4, 6]))  # [1, 2, 3, 4, 5, 6]"
   ]
  },
  {
   "cell_type": "code",
   "execution_count": null,
   "metadata": {},
   "outputs": [],
   "source": [
    "### 7. Count Vowels in a String\n",
    "### Problem: Write a function that counts the number of vowels in a given string.\n",
    "\n",
    "def count_vowels(s):\n",
    "    vowels = \"aeiouAEIOU\"\n",
    "    return sum(1 for char in s if char in vowels)\n",
    "\n",
    "print(count_vowels(\"hello world\"))  # 3"
   ]
  },
  {
   "cell_type": "code",
   "execution_count": null,
   "metadata": {},
   "outputs": [],
   "source": [
    "### 8. Sum of Digits\n",
    "# Write a function that calculates the sum of the digits of a given integer.\n",
    "def sum_of_digits(n):\n",
    "        return sum(int(digit) for digit in str(n))\n",
    "\n",
    "print(sum_of_digits(12345))  # 15"
   ]
  },
  {
   "cell_type": "code",
   "execution_count": null,
   "metadata": {},
   "outputs": [],
   "source": [
    "### 1. Write a function to check if two strings are anagrams of each other.\n",
    "\n",
    "def are_anagrams(str1, str2):\n",
    "    # Remove any spaces and convert strings to lower case\n",
    "    str1 = str1.replace(\" \", \"\").lower()\n",
    "    str2 = str2.replace(\" \", \"\").lower()\n",
    "    \n",
    "    # Anagrams must have the same length\n",
    "    if len(str1) != len(str2):\n",
    "        return False\n",
    "    \n",
    "    # Sort the characters in both strings and compare\n",
    "    return sorted(str1) == sorted(str2)\n",
    "\n",
    "# Example usage:\n",
    "print(are_anagrams(\"listen\", \"silent\"))  # Output: True\n",
    "print(are_anagrams(\"hello\", \"billion\"))  # Output: False\n"
   ]
  },
  {
   "cell_type": "code",
   "execution_count": null,
   "metadata": {},
   "outputs": [],
   "source": [
    "###PS3. Finding Duplicates in a List\n",
    "'''\n",
    " Q) Write a Python function `find_duplicates(lst)` that takes a list of integers and returns a list of duplicate elements.\n",
    "'''\n",
    "\n",
    "lst = [1, 2, 3, 4, 4, 5, 6, 7, 7, 8, 9]\n",
    "find_duplicates(lst)  # returns [4, 7]\n"
   ]
  },
  {
   "cell_type": "code",
   "execution_count": 5,
   "metadata": {},
   "outputs": [
    {
     "data": {
      "text/plain": [
       "True"
      ]
     },
     "execution_count": 5,
     "metadata": {},
     "output_type": "execute_result"
    }
   ],
   "source": [
    "### Problem 2: Anagram Checker\n",
    "'''\n",
    "    Write a Python function `are_anagrams(str1, str2)` that checks if two strings are anagrams of each other (ignore spaces and case).\n",
    "'''\n",
    "str1 = \"Listen\"\n",
    "str2 = \"Silent\"\n",
    "\n",
    "def are_anagrams(str1,str2):\n",
    "    #sort is not a method of string \n",
    "\n",
    "    str1 = sorted(str1.lower())\n",
    "    str2 = sorted(str2.lower())\n",
    "    return True if str1 == str2 else False\n",
    " \n",
    "result = are_anagrams(str1, str2)\n",
    "result\n"
   ]
  },
  {
   "cell_type": "code",
   "execution_count": null,
   "metadata": {},
   "outputs": [],
   "source": [
    "### Problem 3: Binary Search\n",
    "'''\n",
    " Q) Implement the binary search algorithm in Python. The function `binary_search(arr, target)` should return the index of `target` \n",
    " in a sorted array, or `-1` if not found.\n",
    "'''\n",
    "\n",
    "arr = [1, 3, 5, 7, 9, 11, 13]\n",
    "target = 7\n",
    "binary_search(arr, target)  # returns 3"
   ]
  },
  {
   "cell_type": "code",
   "execution_count": null,
   "metadata": {},
   "outputs": [],
   "source": [
    "### Problem 4: Flatten a Nested List\n",
    "'''\n",
    " Q) Write a Python function `flatten(lst)` that takes a nested list of integers and returns a flattened version of the list \n",
    " (i.e., no nested lists).\n",
    "'''\n",
    "lst = [1, [2, [3, 4], 5], 6]\n",
    "flatten(lst)  # returns [1, 2, 3, 4, 5, 6]\n",
    "```\n"
   ]
  },
  {
   "cell_type": "code",
   "execution_count": null,
   "metadata": {},
   "outputs": [],
   "source": [
    "### Problem 5: Group Anagrams\n",
    "'''Write a function `group_anagrams(words)` that groups anagrams from a list of strings.'''\n",
    "\n",
    "words = [\"eat\", \"tea\", \"tan\", \"ate\", \"nat\", \"bat\"]\n",
    "group_anagrams(words)\n",
    "# returns [['eat', 'tea', 'ate'], ['tan', 'nat'], ['bat']]\n"
   ]
  },
  {
   "cell_type": "code",
   "execution_count": null,
   "metadata": {},
   "outputs": [],
   "source": [
    "### Problem 6: Fibonacci with Memoization\n",
    "'''\n",
    " Q)Write a Python function `fibonacci(n)` that calculates the `n`th Fibonacci number using memoization to optimize performance.\n",
    "'''\n",
    "fibonacci(10)  # returns 55"
   ]
  },
  {
   "cell_type": "code",
   "execution_count": null,
   "metadata": {},
   "outputs": [],
   "source": [
    "### Problem 7: Merge Two Sorted Lists\n",
    "'''\n",
    "Q) Given two sorted lists of integers, `lst1` and `lst2`, write a function `merge_sorted_lists(lst1, lst2)` \n",
    "that merges them into one sorted list.\n",
    "'''\n",
    "\n",
    "lst1 = [1, 3, 5, 7]\n",
    "lst2 = [2, 4, 6, 8]\n",
    "merge_sorted_lists(lst1, lst2)  # returns [1, 2, 3, 4, 5, 6, 7, 8]\n"
   ]
  },
  {
   "cell_type": "code",
   "execution_count": null,
   "metadata": {},
   "outputs": [],
   "source": [
    "### Problem 8: Find the Longest Palindromic Substring\n",
    "'''\n",
    " Q) Write a Python function `longest_palindromic_substring(s)` that takes a string `s` and returns the longest palindromic substring.\n",
    "'''\n",
    "\n",
    "s = \"babad\"\n",
    "longest_palindromic_substring(s)  # returns \"bab\" or \"aba\""
   ]
  },
  {
   "cell_type": "code",
   "execution_count": null,
   "metadata": {},
   "outputs": [],
   "source": [
    "### Problem 9: Rotating a Matrix\n",
    "'''\n",
    "Q) Write a Python function `rotate_matrix(matrix)` that rotates an `n x n` matrix 90 degrees clockwise.\n",
    "'''\n",
    "\n",
    "matrix = [\n",
    "    [1, 2, 3],\n",
    "    [4, 5, 6],\n",
    "    [7, 8, 9]\n",
    "]\n",
    "rotate_matrix(matrix)\n",
    "# Output:\n",
    "# [\n",
    "#   [7, 4, 1],\n",
    "#   [8, 5, 2],\n",
    "#   [9, 6, 3]\n",
    "# ]"
   ]
  },
  {
   "cell_type": "code",
   "execution_count": null,
   "metadata": {},
   "outputs": [],
   "source": [
    "### Problem 10: Top K Frequent Elements\n",
    "'''\n",
    "Q) Write a Python function `top_k_frequent(nums, k)` that returns the `k` most frequent elements from a list of integers `nums`.\n",
    "'''\n",
    "nums = [1, 1, 1, 2, 2, 3]\n",
    "k = 2\n",
    "top_k_frequent(nums, k)  # returns [1, 2]"
   ]
  },
  {
   "cell_type": "code",
   "execution_count": null,
   "metadata": {},
   "outputs": [],
   "source": [
    "\n",
    "### Problem 11: Sum of Pairs\n",
    "Task:  \n",
    "Write a function `find_pairs_with_sum(lst, target)` that takes a list of integers `lst` and an integer `target`, and returns a list of all pairs (as tuples) that add up to the `target`.\n",
    "\n",
    "Example:\n",
    "```python\n",
    "lst = [2, 4, 3, 5, 7, 8, 9]\n",
    "target = 10\n",
    "find_pairs_with_sum(lst, target)  # returns [(3, 7), (2, 8)]\n",
    "```\n"
   ]
  },
  {
   "cell_type": "code",
   "execution_count": null,
   "metadata": {},
   "outputs": [],
   "source": [
    "### Problem 12: Sorting a Dictionary by Value\n",
    "'''\n",
    "Q) Write a Python function `sort_dict_by_value(d)` that takes a dictionary `d` and returns a list of key-value pairs, sorted by value.\n",
    "'''\n",
    "d = {'a': 2, 'b': 1, 'c': 3}\n",
    "sort_dict_by_value(d)  # returns [('b', 1), ('a', 2), ('c', 3)]"
   ]
  }
 ],
 "metadata": {
  "kernelspec": {
   "display_name": "myenv",
   "language": "python",
   "name": "python3"
  },
  "language_info": {
   "codemirror_mode": {
    "name": "ipython",
    "version": 3
   },
   "file_extension": ".py",
   "mimetype": "text/x-python",
   "name": "python",
   "nbconvert_exporter": "python",
   "pygments_lexer": "ipython3",
   "version": "3.9.12"
  }
 },
 "nbformat": 4,
 "nbformat_minor": 2
}
