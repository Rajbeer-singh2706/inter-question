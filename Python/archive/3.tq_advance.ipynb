{
 "cells": [
  {
   "cell_type": "code",
   "execution_count": null,
   "metadata": {},
   "outputs": [],
   "source": [
    "### **Advanced Python Questions**\n",
    "# Q1) **How does Python's Global Interpreter Lock (GIL) affect multithreading?**\n",
    "'''\n",
    "   The GIL is a mutex that protects access to Python objects, preventing multiple native threads from executing \n",
    "   Python bytecodes simultaneously. This can limit the effectiveness of multithreading for CPU-bound tasks but not for I/O-bound tasks.\n",
    "'''"
   ]
  },
  {
   "cell_type": "code",
   "execution_count": null,
   "metadata": {},
   "outputs": [],
   "source": [
    "# Q2) How would you implement a custom iterator in Python?\n",
    "'''\n",
    "  A custom iterator can be implemented by defining a class with `__iter__()` and `__next__()` methods. Example:\n",
    "  class MyIterator:\n",
    "       def __init__(self, start, end):\n",
    "           self.current = start\n",
    "           self.end = end\n",
    "\n",
    "       def __iter__(self):\n",
    "           return self\n",
    "\n",
    "       def __next__(self):\n",
    "           if self.current >= self.end:\n",
    "               raise StopIteration\n",
    "           self.current += 1\n",
    "           return self.current - 1\n",
    "'''"
   ]
  },
  {
   "cell_type": "code",
   "execution_count": null,
   "metadata": {},
   "outputs": [],
   "source": [
    "# Q3) Explain the concept of metaclasses in Python.**\n",
    "'''\n",
    "Ans) A metaclass is a class of a class that defines how a class behaves. \n",
    "   A class is an instance of a metaclass. Metaclasses allow customization of class creation and can be used to enforce rules or modify classes.\n",
    "\n",
    "'''"
   ]
  },
  {
   "cell_type": "code",
   "execution_count": null,
   "metadata": {},
   "outputs": [],
   "source": [
    "# Q4) **How would you optimize a large dataset processing task in Python?**\n",
    "'''\n",
    "   - You can optimize by using generators for memory efficiency, \n",
    "   - leveraging multiprocessing or threading for parallel execution, \n",
    "   - using efficient libraries like NumPy or Pandas, \n",
    "   - and performing operations in chunks to handle large datasets\n",
    "'''"
   ]
  },
  {
   "cell_type": "code",
   "execution_count": null,
   "metadata": {},
   "outputs": [],
   "source": [
    "# Q5) **What is the difference between `is` and `==` in Python?**\n",
    "'''\n",
    "  `is` checks for object identity (whether two references point to the same object),\n",
    "  while `==` checks for value equality (whether two objects have the same value).\n",
    "'''"
   ]
  },
  {
   "cell_type": "code",
   "execution_count": null,
   "metadata": {},
   "outputs": [],
   "source": [
    "### 1. **Key Python Libraries for Data Processing and Handling Missing Data with Pandas**\n",
    "'''\n",
    "**Key Python Libraries for Data Processing:**\n",
    "- **Pandas**: A powerful library for data manipulation and analysis. It provides data structures like DataFrames and Series to efficiently handle and analyze data.\n",
    "- **NumPy**: A library for numerical computations, particularly useful for handling arrays and matrices.\n",
    "- **Dask**: Extends Pandas to handle larger-than-memory datasets by parallelizing operations across multiple cores or machines.\n",
    "- **PySpark**: An interface for Apache Spark in Python, used for big data processing.\n",
    "- **SQLAlchemy**: A SQL toolkit and Object-Relational Mapping (ORM) library that provides a way to interact with relational databases in a Pythonic way.\n",
    "- **Scikit-learn**: A machine learning library that includes tools for data preprocessing, feature extraction, and model building.\n",
    "- **BeautifulSoup**: Used for web scraping to parse HTML and XML documents.\n",
    "- **Numpy**: Used for numerical computing and array processing.\n",
    "- **Matplotlib/Seaborn**: Libraries for data visualization.\n",
    "'''"
   ]
  },
  {
   "cell_type": "code",
   "execution_count": null,
   "metadata": {},
   "outputs": [],
   "source": [
    "\n",
    "##**Handling Missing Data with Pandas:**\n",
    "'''\n",
    "Pandas provides several methods to handle missing data:\n",
    "\n",
    "1. **Detecting Missing Data:**\n",
    "   ```python\n",
    "   df.isnull()  # Returns a DataFrame of the same shape with True where values are NaN\n",
    "   df.isnull().sum()  # Returns the count of missing values for each column\n",
    "   ```\n",
    "\n",
    "2. **Dropping Missing Data:**\n",
    "   ```python\n",
    "   df.dropna()  # Drops any row with at least one NaN value\n",
    "   df.dropna(axis=1)  # Drops any column with at least one NaN value\n",
    "   df.dropna(thresh=2)  # Drops rows with less than 2 non-NaN values\n",
    "   ```\n",
    "\n",
    "3. **Filling Missing Data:**\n",
    "   ```python\n",
    "   df.fillna(0)  # Replaces all NaN values with 0\n",
    "   df.fillna(method='ffill')  # Forward fill: replace NaN with the previous value\n",
    "   df.fillna(method='bfill')  # Backward fill: replace NaN with the next value\n",
    "   ```\n",
    "\n",
    "4. **Replacing Missing Data with Specific Values:**\n",
    "   ```python\n",
    "   df['column_name'].fillna(df['column_name'].mean(), inplace=True)  # Replace NaN with the mean of the column\n",
    "   df['column_name'].replace({np.nan: 'Unknown'}, inplace=True)  # Replace NaN with a specific value\n",
    "   ```\n",
    "'''"
   ]
  },
  {
   "cell_type": "code",
   "execution_count": null,
   "metadata": {},
   "outputs": [],
   "source": [
    "\n",
    "### 2. **Multiprocessing vs. Threading in Python**\n",
    "'''\n",
    "**Threading:**\n",
    "- **Use Case**: Threading is ideal when your application is I/O-bound, such as when dealing with file operations, network requests, or user interfaces. Python threads run in the same memory space and are lightweight but limited by the Global Interpreter Lock (GIL), which allows only one thread to execute Python bytecode at a time.\n",
    "- **Example**: If your task involves waiting for I/O operations like reading a file or making a network request, threading can help you perform other operations during the wait time.\n",
    "\n",
    "**Multiprocessing:**\n",
    "- **Use Case**: Multiprocessing is best for CPU-bound tasks, such as heavy computation. It allows you to bypass the GIL by creating separate memory spaces (processes) that run independently. This makes it more suitable for parallelizing CPU-bound tasks.\n",
    "- **Example**: If you are performing tasks like image processing, machine learning model training, or mathematical simulations, multiprocessing can help you utilize multiple cores efficiently.\n",
    "\n",
    "**When to Use One Over the Other:**\n",
    "- **Threading**: Use when your application is I/O-bound and the tasks can run concurrently without heavy computation.\n",
    "- **Multiprocessing**: Use when your application is CPU-bound and you need true parallelism to leverage multiple CPU cores.\n",
    "\n",
    "'''"
   ]
  },
  {
   "cell_type": "code",
   "execution_count": null,
   "metadata": {},
   "outputs": [],
   "source": [
    "### 3. **Optimizing a Python Script for Performance**\n",
    "'''\n",
    "**Key Techniques:**\n",
    "\n",
    "1. **Profiling Your Code:**\n",
    "   - **cProfile**: A built-in Python module that provides a way to measure where time is being spent in your code.\n",
    "   - **Example**: `python -m cProfile your_script.py` to see detailed statistics.\n",
    "\n",
    "2. **Optimizing Loops:**\n",
    "   - Avoid redundant calculations inside loops.\n",
    "   - Use list comprehensions where possible as they are generally faster than traditional for-loops.\n",
    "\n",
    "3. **Using Built-in Functions and Libraries:**\n",
    "   - Pythons built-in functions and libraries are usually implemented in C and are faster than custom Python code.\n",
    "   - Example: Use `sum()` instead of manually summing elements in a loop.\n",
    "\n",
    "4. **Avoiding Global Variables:**\n",
    "   - Global variables are slower than local variables. Keep variables inside functions where possible.\n",
    "\n",
    "5. **Using Efficient Data Structures:**\n",
    "   - Choose appropriate data structures, such as using sets for membership tests instead of lists.\n",
    "   - Use `deque` from `collections` for faster queue operations.\n",
    "\n",
    "6. **Memory Management:**\n",
    "   - Use generators instead of lists when handling large datasets to reduce memory usage.\n",
    "   - Example: Instead of `[x*x for x in range(1000000)]`, use `(x*x for x in range(1000000))`.\n",
    "\n",
    "7. **Parallelism and Concurrency:**\n",
    "   - Use multiprocessing or threading to parallelize CPU-bound or I/O-bound tasks.\n",
    "   - Example: Use `concurrent.futures` for easier management of parallel tasks.\n",
    "\n",
    "8. **Using Numba for Just-In-Time Compilation:**\n",
    "   - Numba is a JIT compiler that translates Python functions into optimized machine code at runtime.\n",
    "   - Example: Annotate functions with `@jit` to speed up numerical computations.\n",
    "\n",
    "9. **Caching Results:**\n",
    "   - Use `functools.lru_cache` to cache the results of expensive function calls.\n",
    "   - Example: Annotate with `@lru_cache` to avoid redundant calculations for functions with the same inputs.\n",
    "\n",
    "10. **Avoiding Excessive Object Creation:**\n",
    "    - Minimize the creation of unnecessary objects, which can slow down your program due to memory allocation overhead.\n",
    "'''"
   ]
  }
 ],
 "metadata": {
  "language_info": {
   "name": "python"
  }
 },
 "nbformat": 4,
 "nbformat_minor": 2
}
