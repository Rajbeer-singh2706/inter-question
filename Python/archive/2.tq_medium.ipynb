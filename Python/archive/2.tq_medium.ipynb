{
 "cells": [
  {
   "cell_type": "code",
   "execution_count": null,
   "metadata": {},
   "outputs": [],
   "source": [
    "### **Intermediate Python Questions**\n",
    "# Q1) What are decorators in Python? How are they used?\n",
    "'''\n",
    "Ans) Decorators are functions that modify the behavior of another function. They are used to add functionality to \n",
    "   existing code. Example:\n",
    "   def decorator_function(original_function):\n",
    "       def wrapper_function(*args, **kwargs):\n",
    "           print(f\"Wrapper executed before {original_function.__name__}\")\n",
    "           return original_function(*args, **kwargs)\n",
    "       return wrapper_function\n",
    "'''"
   ]
  },
  {
   "cell_type": "code",
   "execution_count": null,
   "metadata": {},
   "outputs": [],
   "source": [
    "#Q2) **Explain the difference between `@staticmethod` and `@classmethod`.**\n",
    "'''\n",
    " `@staticmethod` defines a method that doesn't operate on an instance of the class or the class itself. \n",
    " `@classmethod` defines a method that operates on the class itself, passing the class as the first argument (usually `cls`).\n",
    "'''\n",
    "\n",
    "#Q3) **What are `*args` and `**kwargs`, and how are they used?**\n",
    "'''\n",
    "   - Expected Answer: `*args` allows you to pass a variable number of positional arguments to a function. `**kwargs` \n",
    "   allows you to pass a variable number of keyword arguments.\n",
    "\n",
    "'''\n",
    "\n",
    "#Q4) **How would you implement a singleton design pattern in Python?**\n",
    "'''\n",
    "A) A singleton design pattern can be implemented by controlling the instance creation so that only one instance exists. Example:\n",
    "   class Singleton:\n",
    "       _instance = None\n",
    "\n",
    "       def __new__(cls, *args, **kwargs):\n",
    "           if not cls._instance:\n",
    "               cls._instance = super(Singleton, cls).__new__(cls, *args, **kwargs)\n",
    "           return cls._instance\n",
    "\n",
    "'''"
   ]
  },
  {
   "cell_type": "code",
   "execution_count": null,
   "metadata": {},
   "outputs": [],
   "source": [
    "#Q5) **What are Python generators, and how do they differ from regular functions?**\n",
    "'''\n",
    "A) Generators are functions that return an iterable set of items one at a time, using \n",
    "   `yield` instead of `return`. They are more memory-efficient because they generate items on the fly.\n",
    "\n",
    "'''"
   ]
  }
 ],
 "metadata": {
  "language_info": {
   "name": "python"
  }
 },
 "nbformat": 4,
 "nbformat_minor": 2
}
