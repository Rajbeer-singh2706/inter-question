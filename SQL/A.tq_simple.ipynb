{
 "cells": [
  {
   "cell_type": "code",
   "execution_count": 1,
   "metadata": {},
   "outputs": [
    {
     "data": {
      "text/plain": [
       "'\\n1. What are window functions in SQL? Provide examples of how they are used.\\n2. Explain the difference between INNER JOIN, LEFT JOIN, RIGHT JOIN, and FULL OUTER JOIN.\\n3. How would you optimize a slow SQL query?\\n4. Discuss the differences between OLAP and OLTP databases.\\n5. Find out duplicates in a table?\\n6.  ank, dense_rank, row_number?\\n7. where vs having\\n # A WHERE clause is used is filter records from a result.  The filter occurs before any groupings are made.\\n # A HAVING clause is used to filter values from a group.\\n'"
      ]
     },
     "execution_count": 1,
     "metadata": {},
     "output_type": "execute_result"
    }
   ],
   "source": [
    "# A) SQL Basics & Advanced:\n",
    "'''\n",
    "1. What are window functions in SQL? Provide examples of how they are used.\n",
    "2. Explain the difference between INNER JOIN, LEFT JOIN, RIGHT JOIN, and FULL OUTER JOIN.\n",
    "3. How would you optimize a slow SQL query?\n",
    "4. Discuss the differences between OLAP and OLTP databases.\n",
    "5. Find out duplicates in a table?\n",
    "6.  ank, dense_rank, row_number?\n",
    "7. where vs having\n",
    " # A WHERE clause is used is filter records from a result.  The filter occurs before any groupings are made.\n",
    " # A HAVING clause is used to filter values from a group.\n",
    "'''"
   ]
  },
  {
   "cell_type": "code",
   "execution_count": null,
   "metadata": {},
   "outputs": [],
   "source": [
    "### **Data Integrity and Constraints**\n",
    "'''\n",
    "Q) What are the different types of constraints in SQL, and how do they ensure data integrity?\n",
    "A)\n",
    "  - **PRIMARY KEY : Ensures each record is unique.\n",
    "  - **FOREIGN KEY : Ensures referential integrity between tables.\n",
    "  - **UNIQUE      : Ensures all values in a column are unique.\n",
    "  - **CHECK       : Ensures that all values in a column meet specific conditions.\n",
    "  - **NOT NULL    : Ensures a column cannot have NULL values.\n",
    "\n",
    "'''"
   ]
  }
 ],
 "metadata": {
  "kernelspec": {
   "display_name": "myenv",
   "language": "python",
   "name": "python3"
  },
  "language_info": {
   "codemirror_mode": {
    "name": "ipython",
    "version": 3
   },
   "file_extension": ".py",
   "mimetype": "text/x-python",
   "name": "python",
   "nbconvert_exporter": "python",
   "pygments_lexer": "ipython3",
   "version": "3.9.12"
  }
 },
 "nbformat": 4,
 "nbformat_minor": 2
}
