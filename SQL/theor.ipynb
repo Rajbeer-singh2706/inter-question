{
 "cells": [
  {
   "cell_type": "code",
   "execution_count": null,
   "metadata": {},
   "outputs": [],
   "source": [
    "# Heres a collection of SQL interview theory questions. These questions cover a wide range of \n",
    "'''\n",
    " - Advanced SQL topics\n",
    " - Including database design \n",
    " - Performance optimization \n",
    " - Indexing\n",
    " - Transactions \n",
    " - Specific SQL functions.\n",
    "'''\n"
   ]
  },
  {
   "cell_type": "code",
   "execution_count": 1,
   "metadata": {},
   "outputs": [
    {
     "ename": "SyntaxError",
     "evalue": "invalid syntax (1322723607.py, line 1)",
     "output_type": "error",
     "traceback": [
      "\u001b[0;36m  Cell \u001b[0;32mIn[1], line 1\u001b[0;36m\u001b[0m\n\u001b[0;31m    -- SQL Questions\u001b[0m\n\u001b[0m           ^\u001b[0m\n\u001b[0;31mSyntaxError\u001b[0m\u001b[0;31m:\u001b[0m invalid syntax\n"
     ]
    }
   ],
   "source": [
    "-- SQL Questions \n",
    "\n",
    "Q) What are window functions in SQL? Provide examples of how they are used.\n",
    "Q) How would you optimize a slow SQL query?\n",
    "Q) Discuss the differences between OLAP and OLTP databases.\n",
    "Q) Find out duplicates in a table?\n",
    "Q) What are indexes in SQL, and how do they impact query performance? When would you use a composite index?\n",
    "A) Indexes speed up data retrieval but can slow down write operations. A composite index is used when you frequently \n",
    "query multiple columns together.\n",
    "\n",
    "--2. Query Optimization\n",
    "-- Q) A query you wrote is running slow. What steps would you take to optimize it?\n",
    "'''\n",
    "- Review indexes, \n",
    "- check query execution plan, \n",
    "- avoid using \n",
    "   * `SELECT *`, \n",
    "   * use proper joins, \n",
    "   * avoid subqueries in favor of CTEs, and \n",
    "   * consider query rewriting or denormalization if needed.\n",
    "'''\n"
   ]
  },
  {
   "cell_type": "markdown",
   "metadata": {},
   "source": [
    "### **Database Design & Schema**"
   ]
  },
  {
   "cell_type": "code",
   "execution_count": null,
   "metadata": {},
   "outputs": [],
   "source": [
    "'''\n",
    " Q1: What are the differences between OLTP and OLAP databases, and how do their schemas differ?\n",
    " Q2: Explain database normalization and its different forms. What are the advantages and trade-offs of normalization?\n",
    " Q3: What is denormalization? When and why would you use a denormalized database design?\n",
    " Q4: What are the key differences between a star schema and a snowflake schema in a data warehouse design?\n",
    " Q5: How would you handle slowly changing dimensions in a data warehouse? Explain the different types of \n",
    "Slowly Changing Dimensions (SCD Type 1, 2, 3).\n",
    "'''"
   ]
  },
  {
   "cell_type": "markdown",
   "metadata": {},
   "source": [
    "### **Indexing & Query Optimization**"
   ]
  },
  {
   "cell_type": "code",
   "execution_count": null,
   "metadata": {},
   "outputs": [],
   "source": [
    "'''\n",
    "Q) What are the different types of indexes in SQL databases, and how do they improve query performance?\n",
    "Q) Explain the difference between a clustered and a non-clustered index.\n",
    "Q) How would you analyze and improve the performance of a slow query? What tools or techniques would you use \n",
    "    (e.g., EXPLAIN PLAN in Oracle, EXPLAIN in PostgreSQL/MySQL)?\n",
    "Q) What is an index scan vs. an index seek, and when does the optimizer choose one over the other?\n",
    "Q) How does a bitmap index work, and when is it beneficial to use one?\n",
    "'''"
   ]
  },
  {
   "cell_type": "markdown",
   "metadata": {},
   "source": [
    "### **Transactions & Concurrency Control**"
   ]
  },
  {
   "cell_type": "code",
   "execution_count": null,
   "metadata": {},
   "outputs": [],
   "source": [
    "'''\n",
    "Q) What are ACID properties in databases, and why are they important for ensuring consistency?\n",
    "Q) What are the different types of transaction isolation levels? How do they affect concurrency and performance?\n",
    "Q) Explain the difference between pessimistic and optimistic locking. When would you use each?\n",
    "Q) How do deadlocks occur in a database, and how would you prevent or resolve them?\n",
    "Q) What is MVCC (Multi-Version Concurrency Control), and how does it work in databases like PostgreSQL?\n",
    "'''"
   ]
  },
  {
   "cell_type": "markdown",
   "metadata": {},
   "source": [
    "### **Joins & Set Operations**"
   ]
  },
  {
   "cell_type": "code",
   "execution_count": null,
   "metadata": {},
   "outputs": [],
   "source": [
    "'''\n",
    "Q) Explain the different types of joins (inner, left, right, full, cross) and give examples of when to use each.\n",
    "Q) What is a self join, and when would you use one?\n",
    "Q) What is the difference between a semi join and an anti join? How can you implement them in SQL?\n",
    "Q) How do UNION and UNION ALL differ? When would you use each?\n",
    "Q) What are window functions in SQL, and how do they differ from aggregate functions? \n",
    "    Can you give an example of a query using ROW_NUMBER() or RANK()?\n",
    "'''"
   ]
  },
  {
   "cell_type": "markdown",
   "metadata": {},
   "source": [
    "### **Stored Procedures, Views, and Functions**"
   ]
  },
  {
   "cell_type": "code",
   "execution_count": null,
   "metadata": {},
   "outputs": [],
   "source": [
    "'''\n",
    "Q) What is the difference between a view and a materialized view? When would you use one over the other?\n",
    "Q) Explain the differences between stored procedures and user-defined functions (UDFs). When would you use each?\n",
    "Q) How would you manage and deploy changes to stored procedures in a production environment to minimize downtime?\n",
    "Q) What are the potential performance implications of using triggers in a database? When would you recommend using them?\n",
    "'''"
   ]
  },
  {
   "cell_type": "markdown",
   "metadata": {},
   "source": [
    "### **Data Integrity & Constraints**"
   ]
  },
  {
   "cell_type": "code",
   "execution_count": null,
   "metadata": {},
   "outputs": [],
   "source": [
    "'''\n",
    "Q) What are foreign key constraints, and how do they enforce data integrity?\n",
    "Q) Explain the difference between primary keys and unique constraints. Can you have multiple unique constraints on a table?\n",
    "Q) What are check constraints, and how would you use them to enforce data validation rules in SQL?\n",
    "Q) How would you handle the deletion of a record that has dependencies via foreign key constraints? \n",
    "    Explain the difference between ON DELETE CASCADE and ON DELETE RESTRICT.\n",
    "'''"
   ]
  },
  {
   "cell_type": "markdown",
   "metadata": {},
   "source": [
    "### **7. ETL and Data Pipelines**"
   ]
  },
  {
   "cell_type": "code",
   "execution_count": null,
   "metadata": {},
   "outputs": [],
   "source": [
    "'''\n",
    "Q) How would you implement an ETL process in SQL? What are the challenges in handling large data transformations, \n",
    "    and how would you optimize them?\n",
    "\n",
    "Q) Explain how you would design a data pipeline to handle incremental loads (only new or changed data) using SQL.\n",
    "\n",
    "Q) What are the best practices for maintaining historical data in a data warehouse? How would you structure your \n",
    "tables to accommodate time-series data?\n",
    "'''"
   ]
  },
  {
   "cell_type": "markdown",
   "metadata": {},
   "source": [
    "### **8. Advanced SQL Concepts**\n"
   ]
  },
  {
   "cell_type": "code",
   "execution_count": 2,
   "metadata": {},
   "outputs": [
    {
     "data": {
      "text/plain": [
       "'\\nQ) What is a CTE (Common Table Expression), and how does it differ from a subquery?\\nQ) What are recursive CTEs, and when would you use them?\\nQ) Explain the concept of a windowing function with an example of using PARTITION BY and ORDER BY.\\nQ) What is a cross join, and how is it different from an inner join?\\nQ) How would you implement an UPSERT operation in different databases (MySQL, PostgreSQL, SQL Server)?\\n'"
      ]
     },
     "execution_count": 2,
     "metadata": {},
     "output_type": "execute_result"
    }
   ],
   "source": [
    "'''\n",
    "Q) What is a CTE (Common Table Expression), and how does it differ from a subquery?\n",
    "Q) What are recursive CTEs, and when would you use them?\n",
    "Q) Explain the concept of a windowing function with an example of using PARTITION BY and ORDER BY.\n",
    "Q) What is a cross join, and how is it different from an inner join?\n",
    "Q) How would you implement an UPSERT operation in different databases (MySQL, PostgreSQL, SQL Server)?\n",
    "'''"
   ]
  },
  {
   "cell_type": "markdown",
   "metadata": {},
   "source": [
    "### **9. Big Data & Distributed Systems**"
   ]
  },
  {
   "cell_type": "code",
   "execution_count": 4,
   "metadata": {},
   "outputs": [
    {
     "data": {
      "text/plain": [
       "'\\nQ) What are the challenges of using traditional relational databases in a big data environment? How would you architect a solution \\n    using a distributed SQL engine like Amazon Redshift or Google BigQuery?\\nQ) Explain how partitioning works in a distributed database, and how would you design partition keys to optimize performance?\\nQ) What is sharding, and how does it differ from partitioning?\\nQ) How would you handle data skew in a distributed system like Amazon Redshift or Hive?\\n'"
      ]
     },
     "execution_count": 4,
     "metadata": {},
     "output_type": "execute_result"
    }
   ],
   "source": [
    "'''\n",
    "Q) What are the challenges of using traditional relational databases in a big data environment? How would you architect a solution \n",
    "    using a distributed SQL engine like Amazon Redshift or Google BigQuery?\n",
    "Q) Explain how partitioning works in a distributed database, and how would you design partition keys to optimize performance?\n",
    "Q) What is sharding, and how does it differ from partitioning?\n",
    "Q) How would you handle data skew in a distributed system like Amazon Redshift or Hive?\n",
    "'''"
   ]
  },
  {
   "cell_type": "markdown",
   "metadata": {},
   "source": [
    "### **10. Performance Tuning and Optimization**"
   ]
  },
  {
   "cell_type": "code",
   "execution_count": null,
   "metadata": {},
   "outputs": [],
   "source": [
    "'''\n",
    "Q) What are some strategies for query performance optimization in large-scale databases?\n",
    "\n",
    "Q) How would you use database partitioning to improve performance in a large database? What types of partitioning are \n",
    "available (range, list, hash)?\n",
    "\n",
    "Q) How does indexing affect query performance? Can you give an example of a scenario where an index might not be helpful?\n",
    "\n",
    "Q) What are query hints, and how can they be used to influence the execution plan of a query?\n",
    "'''"
   ]
  }
 ],
 "metadata": {
  "kernelspec": {
   "display_name": "myenv",
   "language": "python",
   "name": "python3"
  },
  "language_info": {
   "codemirror_mode": {
    "name": "ipython",
    "version": 3
   },
   "file_extension": ".py",
   "mimetype": "text/x-python",
   "name": "python",
   "nbconvert_exporter": "python",
   "pygments_lexer": "ipython3",
   "version": "3.9.12"
  }
 },
 "nbformat": 4,
 "nbformat_minor": 2
}
