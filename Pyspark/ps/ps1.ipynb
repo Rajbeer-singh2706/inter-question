{
 "cells": [
  {
   "cell_type": "code",
   "execution_count": null,
   "metadata": {},
   "outputs": [],
   "source": [
    "Difficulty Level -> 𝐌𝐞𝐝𝐢𝐮𝐦 \n",
    "\n",
    "You are working with a large-scale web application that tracks user activities. You have a table in your data warehouse with the following schema:\n",
    "\n",
    "user_activity\n",
    "-------------\n",
    "id: integer (user ID)\n",
    "datetime: timestamp (time of activity)\n",
    "action: string (type of action performed, can be null)\n",
    "\n",
    "Sample of the data looks like this:\n",
    "\n",
    "+---+-------------------+-------+------------------+\n",
    "|id |datetime |action |time_diff_minutes |\n",
    "+---+-------------------+-------+------------------+\n",
    "|1 |2024-09-27 10:00:00|click |null |\n",
    "|1 |2024-09-27 10:10:00|like |10.0 |\n",
    "|1 |2024-09-27 10:15:00|null |5.0 |\n",
    "|1 |2024-09-27 10:50:00|scroll |35.0 |\n",
    "|1 |2024-09-27 11:40:00|comment|50.0 |\n",
    "|2 |2024-09-27 09:30:00|click |null |\n",
    "|2 |2024-09-27 09:45:00|like |15.0 |\n",
    "|2 |2024-09-27 10:30:00|comment|45.0 |\n",
    "+---+-------------------+-------+------------------+\n",
    "\n",
    "\n",
    "The business defines a user session as a series of activities where the time gap between any two consecutive activities is less than or equal to 30 minutes. If there's an inactivity period of more than 30 minutes, it marks the beginning of a new session.\n",
    "\n",
    "\n",
    "Your need to write a Pyspark code to compute the 𝐚𝐯𝐞𝐫𝐚𝐠𝐞 𝐬𝐞𝐬𝐬𝐢𝐨𝐧 𝐝𝐮𝐫𝐚𝐭𝐢𝐨𝐧 𝐟𝐨𝐫 𝐞𝐚𝐜𝐡 𝐮𝐬𝐞𝐫 ?\n",
    "\n",
    "Output :\n",
    "\n",
    "+---+------------------------------+\n",
    "|id |avg_session_duration_minutes |\n",
    "+---+------------------------------+\n",
    "|1 |5.0 |\n",
    "|2 |7.5 |\n",
    "+---+------------------------------+"
   ]
  }
 ],
 "metadata": {
  "language_info": {
   "name": "python"
  }
 },
 "nbformat": 4,
 "nbformat_minor": 2
}
