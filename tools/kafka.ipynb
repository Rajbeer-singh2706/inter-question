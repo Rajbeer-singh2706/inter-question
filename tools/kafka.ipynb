{
 "cells": [
  {
   "cell_type": "code",
   "execution_count": null,
   "metadata": {},
   "outputs": [],
   "source": [
    "Interviewer: You have 2 minutes. Explain the difference between Kafka Partitions. and Kafka Consumer Groups\n",
    "\n",
    "My answer: Challenge accepted, let's go!\n",
    "\n",
    "➤ 𝗞𝗮𝗳𝗸𝗮 𝗣𝗮𝗿𝘁𝗶𝘁𝗶𝗼𝗻𝘀:\n",
    "\n",
    "- Kafka topics are divided into partitions, which allow messages to be distributed across multiple brokers.\n",
    "- Each partition is ordered, and messages within a partition are strictly sequential.\n",
    "- Partitions enable parallelism in Kafka, making it scalable.\n",
    "\n",
    "Example:\n",
    "\n",
    "→ Topic: Orders\n",
    "\n",
    "• Partition 0: Message 1, Message 2\n",
    "• Partition 1: Message 3, Message 4\n",
    "\n",
    "➤ 𝗞𝗮𝗳𝗸𝗮 𝗖𝗼𝗻𝘀𝘂𝗺𝗲𝗿 𝗚𝗿𝗼𝘂𝗽𝘀:\n",
    "\n",
    "- A consumer group is a set of consumers working together to consume messages from a topic.\n",
    "- Each partition in a topic is consumed by only one consumer within the group at any given time.\n",
    "- If you have more partitions than consumers, some consumers will read from multiple partitions.\n",
    "\n",
    "Example:\n",
    "\n",
    "→ Consumer Group: OrderProcessing\n",
    "\n",
    "• Partition 0: Consumed by Consumer 1\n",
    "• Partition 1: Consumed by Consumer 2\n",
    "\n",
    "Together, partitions enable Kafka to scale, while consumer groups allow parallel and fault-tolerant message processing!"
   ]
  }
 ],
 "metadata": {
  "language_info": {
   "name": "python"
  }
 },
 "nbformat": 4,
 "nbformat_minor": 2
}
