{
 "cells": [
  {
   "cell_type": "code",
   "execution_count": null,
   "metadata": {},
   "outputs": [],
   "source": [
    "### **QuickSight**\n",
    "'''\n",
    "1. **Describe the process of connecting QuickSight to various data sources like S3, Redshift, and RDS.**\n",
    "2. **How do you handle data refresh and synchronization in QuickSight dashboards?**\n",
    "3. **What are some best practices for securing data in QuickSight reports and dashboards?**\n",
    "4. **How would you optimize performance in QuickSight when dealing with large datasets?**\n",
    "\n",
    "'''"
   ]
  }
 ],
 "metadata": {
  "language_info": {
   "name": "python"
  }
 },
 "nbformat": 4,
 "nbformat_minor": 2
}
