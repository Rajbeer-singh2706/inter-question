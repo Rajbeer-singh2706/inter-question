{
 "cells": [
  {
   "cell_type": "code",
   "execution_count": null,
   "metadata": {},
   "outputs": [],
   "source": [
    "### 1. Explain the differences between Hive and relational databases (RDBMS).\n",
    "'''\n",
    "- Schema on Read vs. Write: In Hive, the schema is applied when reading data, whereas in RDBMS, the schema is enforced when writing data.\n",
    "\n",
    "- Performance: Hive is not optimized for low-latency queries and is primarily used for batch processing on large datasets, \n",
    "whereas RDBMS are designed for high-speed transactions.\n",
    "\n",
    "- SQL Compatibility: Hive supports HiveQL (similar to SQL), but lacks some advanced SQL features such as ACID transactions \n",
    "(though ACID support has improved in newer versions).\n",
    "\n",
    "- Storage: Hive stores data in HDFS or S3 (cloud), while RDBMS use block storage systems.\n",
    "'''"
   ]
  },
  {
   "cell_type": "code",
   "execution_count": null,
   "metadata": {},
   "outputs": [],
   "source": [
    "### 2. What are the different file formats supported by Hive?\n",
    "#Hive supports multiple file formats for reading and writing data:\n",
    "'''\n",
    "   - TextFile: Default format, uncompressed and row-based.\n",
    "   - SequenceFile: Binary key-value pairs, row-based.\n",
    "   - ORC (Optimized Row Columnar): Columnar format, optimized for reading and space efficiency.\n",
    "   - Parquet: Columnar format, supports efficient compression and encoding.\n",
    "   - RCFile (Record Columnar File): Combines columnar and row-based storage.\n",
    "   - Avro: Row-based, used for schema evolution and serialization.\n",
    "'''"
   ]
  },
  {
   "cell_type": "code",
   "execution_count": null,
   "metadata": {},
   "outputs": [],
   "source": [
    "### 3. How can you optimize performance in Hive?\n",
    "'''   \n",
    "1. Partitioning: Split large datasets into smaller logical divisions based on columns to reduce scan size.\n",
    "\n",
    "2. Bucketing: Group data in a partition into manageable \"buckets\" to allow efficient querying.\n",
    "\n",
    "3. Compression: Use efficient file formats like ORC or Parquet with compression techniques such as Snappy, LZO, or Zlib.\n",
    "\n",
    "4. Tez Execution Engine: Use Tez instead of MapReduce for faster query execution.\n",
    "\n",
    "5. Caching Metadata: Hive Metastore caching can improve performance by reducing the load on the metastore database.\n",
    "\n",
    "6. Query Optimization: Enable Hive query optimizers such as Cost-Based Optimization (CBO).\n",
    "'''"
   ]
  },
  {
   "cell_type": "code",
   "execution_count": null,
   "metadata": {},
   "outputs": [],
   "source": [
    "### 4. Explain how partitioning works in Hive.\n",
    "# Partitioning divides a table into smaller partitions based on column values. When you query a partitioned table, Hive only scans \n",
    "# relevant partitions instead of the whole table, reducing the amount of data read.\n",
    "\n",
    "'''\n",
    "CREATE TABLE sales (id INT, amount DECIMAL, date STRING)\n",
    "  PARTITIONED BY (year STRING, month STRING);\n",
    "  \n",
    " When querying:\n",
    "   \n",
    "SELECT * FROM sales WHERE year = '2023' AND month = '09';\n",
    "\n",
    "Hive will only read data from the partition where `year=2023` and `month=09`.\n",
    "'''"
   ]
  },
  {
   "cell_type": "code",
   "execution_count": null,
   "metadata": {},
   "outputs": [],
   "source": [
    "### 5. How does bucketing differ from partitioning in Hive?\n",
    "#Partitioning: Divides the data based on distinct column values, each partition containing one set of data.\n",
    "#Bucketing: Divides data within a partition into manageable \"buckets\" based on a hash of a column. This enables joins and \n",
    "# grouping operations to be more efficient.\n",
    "\n",
    "'''\n",
    "CREATE TABLE sales_bucketed (id INT, amount DECIMAL)\n",
    "   CLUSTERED BY (id) INTO 10 BUCKETS;\n",
    "\n",
    "This creates 10 buckets based on the hash of the `id` column. Bucketing is used to optimize JOINs.\n",
    "'''"
   ]
  },
  {
   "cell_type": "code",
   "execution_count": null,
   "metadata": {},
   "outputs": [],
   "source": [
    "### 6. What is the use of `distribute by`, `sort by`, and `cluster by` in Hive?\n",
    "#- `DISTRIBUTE BY`: Ensures that rows with the same column values go to the same reducer, useful for controlling how data is \n",
    "# distributed across reducers.\n",
    "SELECT * FROM table DISTRIBUTE BY col;\n",
    "\n",
    "#   - `SORT BY`: Orders data within each reducer. It does not guarantee global ordering across all reducers.\n",
    "SELECT * FROM table SORT BY col;\n",
    "\n",
    "#   - `CLUSTER BY`: Combines the functions of `DISTRIBUTE BY` and `SORT BY`. It distributes rows to reducers and sorts them within \n",
    "# each reducer.\n",
    "SELECT * FROM table CLUSTER BY col;\n"
   ]
  },
  {
   "cell_type": "code",
   "execution_count": null,
   "metadata": {},
   "outputs": [],
   "source": [
    "### 7. Explain the concept of ACID transactions in Hive. How do they work?\n",
    "#Hive introduced ACID (Atomicity, Consistency, Isolation, Durability) transactions in version 0.14. These allow insert, \n",
    "# update, and delete operations on tables.\n",
    "'''\n",
    "   - Insert: `INSERT INTO` appends to a table.\n",
    "   - Update/Delete: Changes individual records.\n",
    "   - Atomicity: Transactions either complete fully or roll back on failure.\n",
    "   - Isolation: Multiple transactions can occur simultaneously, without interference.\n",
    "'''   \n",
    "\n",
    "#   To enable ACID transactions:\n",
    "'''\n",
    "   SET hive.txn.manager=org.apache.hadoop.hive.ql.lockmgr.DbTxnManager;\n",
    "   SET hive.support.concurrency=true;\n",
    "\n",
    "'''\n"
   ]
  },
  {
   "cell_type": "code",
   "execution_count": null,
   "metadata": {},
   "outputs": [],
   "source": [
    "### 8. What are dynamic partitions in Hive, and when would you use them?\n",
    "#   Dynamic partitioning allows you to create partitions automatically based on the data in the table, as opposed to statically defining \n",
    "# partitions beforehand.\n",
    "\n",
    "'''\n",
    "INSERT INTO TABLE sales PARTITION (year, month)\n",
    "SELECT id, amount, year(date), month(date) FROM transactions;\n",
    "\n",
    "'''\n",
    "#  Hive automatically creates partitions for each distinct year and month in the `transactions` table"
   ]
  },
  {
   "cell_type": "code",
   "execution_count": null,
   "metadata": {},
   "outputs": [],
   "source": [
    "### 9. How do you handle schema evolution in Hive?\n",
    "'''\n",
    "Schema evolution in Hive can be handled using formats like Avro or ORC, which allow you to add or remove columns from tables without \n",
    "breaking compatibility.\n",
    "   \n",
    "# Example of evolving an ORC schema:\n",
    "ALTER TABLE table_name ADD COLUMNS (new_col STRING);\n",
    "\n",
    "#Hive ignores missing columns and assigns NULL values to new columns.\n",
    "'''"
   ]
  },
  {
   "cell_type": "code",
   "execution_count": null,
   "metadata": {},
   "outputs": [],
   "source": [
    "### 10. What are some common challenges in using Hive, and how can they be mitigated?\n",
    "'''\n",
    "- Slow Query Performance: Can be mitigated by optimizing data formats (ORC/Parquet), \n",
    "   * partitioning, \n",
    "   * bucketing, and \n",
    "   * enabling vectorization.\n",
    "\n",
    "- Handling Small Files: Too many small files slow down MapReduce jobs. \n",
    "     * Use compaction or combine small files into larger ones.\n",
    "\n",
    "- Metadata Bottleneck: Hive Metastore can become a bottleneck. \n",
    "    * Caching or using a faster database for the metastore can help.\n",
    "\n",
    "'''"
   ]
  }
 ],
 "metadata": {
  "language_info": {
   "name": "python"
  }
 },
 "nbformat": 4,
 "nbformat_minor": 2
}
