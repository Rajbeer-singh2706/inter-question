{
 "cells": [
  {
   "cell_type": "code",
   "execution_count": null,
   "metadata": {},
   "outputs": [],
   "source": [
    "Here are some commonly asked Databricks questions that I encountered in recent interviews.\n",
    "\n",
    "1. How do you decide on cluster configuration if you have 100 GB of data?\n",
    "2. What happens once you submit the code, and how does Spark work internally?\n",
    "3. What is driver memory, and when does it spill to disk?\n",
    "4. How does the memory manager work?\n",
    "5. When do you get an OOM (Out Of Memory) exception in the driver node and executor node?\n",
    "6. What is executor memory, how is it distributed, and when does it spill to disk?\n",
    "7. What is a pool in Databricks, why is it used, and how can you create one?\n",
    "8. What types of workloads can be run on a standard cluster in Databricks?\n",
    "9. How many types of clusters are there, and how do you choose the right one?\n",
    "10. What are the different cluster modes available in Databricks?\n",
    "11. What are the different types of Databricks Runtimes?\n",
    "12. How do you call one notebook from another in Databricks?\n",
    "13. How can you access a variable from one notebook in another notebook?\n",
    "14. How can you exit a notebook while returning some output data?\n",
    "15. How can you create internal and external tables in Databricks?"
   ]
  }
 ],
 "metadata": {
  "language_info": {
   "name": "python"
  }
 },
 "nbformat": 4,
 "nbformat_minor": 2
}
