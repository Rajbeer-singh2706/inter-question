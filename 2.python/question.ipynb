{
 "cells": [
  {
   "cell_type": "code",
   "execution_count": null,
   "metadata": {},
   "outputs": [],
   "source": [
    "ineer interview, covering Python, SQL, AWS, PySpark, and related problem-solving tasks:\n",
    "\n",
    "Python\n",
    "Python Basics & Advanced:\n",
    "\n",
    "What are Python decorators? How do you use them?\n",
    "Explain the concept of generators in Python. How do they differ from iterators?\n",
    "Discuss Python's memory management. How does garbage collection work?\n",
    "Explain the difference between deep copy and shallow copy.\n",
    "How would you handle exceptions in Python? Provide examples of custom exception handling.\n",
    "Python Libraries:\n",
    "\n",
    "What are some key Python libraries used for data processing? How would you use Pandas to handle missing data?\n",
    "Describe the use of multiprocessing vs. threading in Python. When would you use one over the other?\n",
    "How would you optimize a Python script for performance?\n",
    "Problem Solving:\n",
    "\n",
    "Write a Python function to reverse a linked list.\n",
    "Implement a Python script that reads a large CSV file in chunks and processes it.\n",
    "Write a function that checks whether a string is a palindrome."
   ]
  }
 ],
 "metadata": {
  "language_info": {
   "name": "python"
  }
 },
 "nbformat": 4,
 "nbformat_minor": 2
}
