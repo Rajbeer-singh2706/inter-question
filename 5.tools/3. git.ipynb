{
 "cells": [
  {
   "cell_type": "code",
   "execution_count": null,
   "metadata": {},
   "outputs": [],
   "source": [
    "'''\n",
    "For an intermediate level Git interview, you might encounter questions that assess your understanding of common Git workflows, branch management, and conflict resolution. Here are some questions that might come up:\n",
    "\n",
    "1. **What is the difference between `git merge` and `git rebase`?**\n",
    "   - Explain the purposes of merging and rebasing and describe scenarios where you would use each.\n",
    "\n",
    "2. **How do you resolve a merge conflict?**\n",
    "   - Walk through the process of resolving conflicts, including any tools or commands you might use.\n",
    "\n",
    "3. **What is the purpose of `git stash`, and how do you use it?**\n",
    "   - Describe when and how you would use `git stash` to temporarily save changes.\n",
    "\n",
    "4. **How can you view the commit history of a specific file?**\n",
    "   - Explain the command or series of commands used to see the history of changes made to a particular file.\n",
    "\n",
    "5. **What does the `git cherry-pick` command do?**\n",
    "   - Describe what `git cherry-pick` is used for and how you would apply it in a workflow.\n",
    "\n",
    "6. **How would you undo a commit that has already been pushed to a remote repository?**\n",
    "   - Explain the different approaches to undoing a commit and the implications of each approach.\n",
    "\n",
    "7. **What are Git tags, and how do you create and manage them?**\n",
    "   - Discuss the use of tags in Git, including how to create, list, and delete tags.\n",
    "\n",
    "8. **Can you explain the difference between `git pull` and `git fetch`?**\n",
    "   - Describe what each command does and when you might use one over the other.\n",
    "\n",
    "9. **What is a Git workflow, and can you describe a common workflow you’ve used in your projects?**\n",
    "   - Explain the concept of a Git workflow and provide an example of a workflow you have experience with.\n",
    "\n",
    "10. **How do you handle a situation where you have made a mistake in a commit message?**\n",
    "    - Describe the process for amending a commit message before and after the commit has been pushed.\n",
    "\n",
    "These questions should give you a good sense of an intermediate Git interview and help you prepare for the kinds of scenarios and concepts you might be asked about.\n",
    "'''"
   ]
  }
 ],
 "metadata": {
  "language_info": {
   "name": "python"
  }
 },
 "nbformat": 4,
 "nbformat_minor": 2
}
