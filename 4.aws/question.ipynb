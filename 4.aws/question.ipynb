{
 "cells": [
  {
   "cell_type": "code",
   "execution_count": null,
   "metadata": {},
   "outputs": [],
   "source": [
    "AWS\n",
    "AWS Services:\n",
    "\n",
    "Explain the use cases for AWS S3, RDS, Redshift, and EMR.\n",
    "How would you secure data in S3? Discuss encryption options.\n",
    "Describe how you would set up and configure an ETL pipeline using AWS services.\n",
    "What is AWS Lambda, and how would you use it in a data engineering context?\n",
    "Data Warehousing & Analytics:\n",
    "\n",
    "Explain the differences between Amazon Redshift and Amazon RDS.\n",
    "How would you optimize query performance in Amazon Redshift?\n",
    "Discuss the best practices for managing and optimizing an AWS EMR cluster.\n",
    "Problem Solving:\n",
    "\n",
    "Design a data pipeline in AWS that ingests streaming data into S3, processes it with EMR, and loads it into Redshift.\n",
    "How would you migrate an on-premises data warehouse to AWS Redshift?"
   ]
  }
 ],
 "metadata": {
  "language_info": {
   "name": "python"
  }
 },
 "nbformat": 4,
 "nbformat_minor": 2
}
