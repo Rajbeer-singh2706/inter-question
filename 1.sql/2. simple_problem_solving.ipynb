{
 "cells": [
  {
   "cell_type": "code",
   "execution_count": null,
   "metadata": {},
   "outputs": [],
   "source": [
    "### 1. **Top N per Group**\n",
    "'''\n",
    " **Problem:** You have a table of sales records with columns \n",
    "    `product_id`, `salesperson_id`, and `sales_amount`.\n",
    "Write a SQL query to find the top 3 sales amounts for each `salesperson_id`.\n",
    "\n",
    "SELECT\n",
    "         salesperson_id,\n",
    "         product_id,\n",
    "         sales_amount\n",
    "     FROM (\n",
    "         SELECT\n",
    "             salesperson_id,\n",
    "             product_id,\n",
    "             sales_amount,\n",
    "             ROW_NUMBER() OVER (PARTITION BY salesperson_id ORDER BY sales_amount DESC) AS rank\n",
    "         FROM sales\n",
    "     ) ranked_sales\n",
    "     WHERE rank <= 3;\n",
    "'''"
   ]
  },
  {
   "cell_type": "code",
   "execution_count": null,
   "metadata": {},
   "outputs": [],
   "source": [
    "### 2. **Running Total**\n",
    "'''\n",
    "   - **Problem:** Given a table \n",
    "   transactions\n",
    "   ============\n",
    "   `transaction_date`, `customer_id`, and `amount`,\n",
    "    write a query to calculate the running total of the `amount` for each `customer_id` ordered by `transaction_date`.\n",
    "   - **Expected Solution:**\n",
    "     ```sql\n",
    "     SELECT\n",
    "         transaction_date,\n",
    "         customer_id,\n",
    "         amount,\n",
    "         SUM(amount) OVER (PARTITION BY customer_id ORDER BY transaction_date) AS running_total\n",
    "     FROM transactions;\n",
    "'''"
   ]
  },
  {
   "cell_type": "code",
   "execution_count": 1,
   "metadata": {},
   "outputs": [
    {
     "data": {
      "text/plain": [
       "'\\n   - **Problem:** You have a table `orders` with columns \\n   `order_id` (sequential integer), `order_date`, and `customer_id`. \\n   Write a SQL query to identify any missing `order_id` values in the sequence.\\n   \\nSELECT\\n         order_id + 1 AS missing_order_id\\nFROM orders o1\\nWHERE NOT EXISTS (\\n         SELECT 1 FROM orders o2 WHERE o2.order_id = o1.order_id + 1\\n)\\nAND o1.order_id < (SELECT MAX(order_id) FROM orders);\\n'"
      ]
     },
     "execution_count": 1,
     "metadata": {},
     "output_type": "execute_result"
    }
   ],
   "source": [
    "### 3. **Identifying Gaps in Sequences**\n",
    "'''\n",
    "   - **Problem:** You have a table `orders` with columns \n",
    "   `order_id` (sequential integer), `order_date`, and `customer_id`. \n",
    "   Write a SQL query to identify any missing `order_id` values in the sequence.\n",
    "   \n",
    "SELECT\n",
    "         order_id + 1 AS missing_order_id\n",
    "FROM orders o1\n",
    "WHERE NOT EXISTS (\n",
    "         SELECT 1 FROM orders o2 WHERE o2.order_id = o1.order_id + 1\n",
    ")\n",
    "AND o1.order_id < (SELECT MAX(order_id) FROM orders);\n",
    "'''"
   ]
  },
  {
   "cell_type": "code",
   "execution_count": 2,
   "metadata": {},
   "outputs": [
    {
     "data": {
      "text/plain": [
       "'\\n   - **Problem:** Given a table `employees` with columns `employee_id`, `name`, `email`, and `hire_date`, write a query to find all employees who have the same `email` but different `employee_id`.\\n   - **Expected Solution:**\\n\\nSELECT\\n         email,\\n         COUNT(*) AS count\\n     FROM employees\\n     GROUP BY email\\n     HAVING COUNT(*) > 1;\\n'"
      ]
     },
     "execution_count": 2,
     "metadata": {},
     "output_type": "execute_result"
    }
   ],
   "source": [
    "### 4. **Finding Duplicates**\n",
    "'''\n",
    "   - **Problem:** Given a table `employees` with columns `employee_id`, `name`, `email`, and `hire_date`, write a query to find all \n",
    "   employees who have the same `email` but different `employee_id`.\n",
    "   - **Expected Solution:**\n",
    "\n",
    "SELECT\n",
    "         email,\n",
    "         COUNT(*) AS count\n",
    "     FROM employees\n",
    "     GROUP BY email\n",
    "     HAVING COUNT(*) > 1;\n",
    "'''"
   ]
  },
  {
   "cell_type": "code",
   "execution_count": 1,
   "metadata": {},
   "outputs": [
    {
     "data": {
      "text/plain": [
       "'\\n- **Problem:** You have two tables: \\n   customers (customer_id,name,city) and \\n   orders(order_id, `customer_id`, `order_date`, and `amount`). \\n   Write a query to find the total order amount for each customer, including customers who have not placed any orders.\\n\\nSELECT\\n         c.customer_id,\\n         c.name,\\n         COALESCE(SUM(o.amount), 0) AS total_order_amount\\n     FROM customers c\\n     LEFT JOIN orders o ON c.customer_id = o.customer_id\\n     GROUP BY c.customer_id, c.name;\\n\\n'"
      ]
     },
     "execution_count": 1,
     "metadata": {},
     "output_type": "execute_result"
    }
   ],
   "source": [
    "### 5. **Complex Joins and Aggregation**\n",
    "'''\n",
    "- **Problem:** You have two tables: \n",
    "   customers (customer_id,name,city) and \n",
    "   orders(order_id, `customer_id`, `order_date`, and `amount`). \n",
    "   Write a query to find the total order amount for each customer, including customers who have not placed any orders.\n",
    "\n",
    "SELECT\n",
    "         c.customer_id,\n",
    "         c.name,\n",
    "         COALESCE(SUM(o.amount), 0) AS total_order_amount\n",
    "     FROM customers c\n",
    "     LEFT JOIN orders o ON c.customer_id = o.customer_id\n",
    "     GROUP BY c.customer_id, c.name;\n",
    "\n",
    "'''"
   ]
  },
  {
   "cell_type": "code",
   "execution_count": null,
   "metadata": {},
   "outputs": [],
   "source": [
    "# Large Problem\n",
    "'''\n",
    "Here's a database problem-solving question that could be useful for practice:\n",
    "\n",
    "### **Problem: Inventory Management System**\n",
    "\n",
    "You are working with a database that handles inventory for an e-commerce company. The company stores information about its products, suppliers, and stock levels in the following tables:\n",
    "\n",
    "1. **Products Table**\n",
    "   - `ProductID`: Unique identifier for each product.\n",
    "   - `ProductName`: Name of the product.\n",
    "   - `Category`: Category to which the product belongs.\n",
    "\n",
    "2. **Suppliers Table**\n",
    "   - `SupplierID`: Unique identifier for each supplier.\n",
    "   - `SupplierName`: Name of the supplier.\n",
    "   - `Country`: Country where the supplier is located.\n",
    "\n",
    "3. **Stock Table**\n",
    "   - `ProductID`: Unique identifier for each product (foreign key from Products table).\n",
    "   - `SupplierID`: Unique identifier for each supplier (foreign key from Suppliers table).\n",
    "   - `Quantity`: Quantity of the product available in stock.\n",
    "\n",
    "### **Question:**\n",
    "You have been asked to provide insights into the current inventory situation. Specifically, you need to write SQL queries to answer the following questions:\n",
    "\n",
    "1. **Top Suppliers by Stock Quantity:**\n",
    "   Write a query to find the top 5 suppliers who have supplied the most quantity of products across all categories.\n",
    "\n",
    "2. **Out-of-Stock Products:**\n",
    "   Write a query to identify all products that are currently out of stock.\n",
    "\n",
    "3. **Category-Wise Stock Summary:**\n",
    "   Write a query to summarize the total stock quantity for each product category.\n",
    "\n",
    "4. **Suppliers with Low Stock Products:**\n",
    "   Write a query to identify suppliers who are responsible for products that are low in stock (i.e., quantity less than 10). \n",
    "\n",
    "### **Expected Output:**\n",
    "- **Top Suppliers by Stock Quantity:** A list of supplier names along with the total quantity supplied, ordered by quantity in descending order.\n",
    "- **Out-of-Stock Products:** A list of product names that have a stock quantity of zero.\n",
    "- **Category-Wise Stock Summary:** A summary table showing each category and the total stock quantity available for that category.\n",
    "- **Suppliers with Low Stock Products:** A list of supplier names who have at least one product with stock less than 10, along with the product name and current stock quantity.\n",
    "\n",
    "### **Example Data:**\n",
    "- Products Table:\n",
    "  | ProductID | ProductName | Category  |\n",
    "  |-----------|-------------|-----------|\n",
    "  | 1         | Widget A    | Gadgets   |\n",
    "  | 2         | Widget B    | Gadgets   |\n",
    "  | 3         | Gadget C    | Gadgets   |\n",
    "  | 4         | Tool D      | Tools     |\n",
    "  | 5         | Tool E      | Tools     |\n",
    "\n",
    "- Suppliers Table:\n",
    "  | SupplierID | SupplierName | Country  |\n",
    "  |------------|--------------|----------|\n",
    "  | 1          | Supplier X   | USA      |\n",
    "  | 2          | Supplier Y   | China    |\n",
    "  | 3          | Supplier Z   | India    |\n",
    "\n",
    "- Stock Table:\n",
    "  | ProductID | SupplierID | Quantity |\n",
    "  |-----------|------------|----------|\n",
    "  | 1         | 1          | 50       |\n",
    "  | 2         | 2          | 30       |\n",
    "  | 3         | 3          | 0        |\n",
    "  | 4         | 1          | 20       |\n",
    "  | 5         | 2          | 5        |\n",
    "\n",
    "---\n",
    "\n",
    "This problem will test your ability to write SQL queries that aggregate data, join tables, and filter results based on specific conditions.\n",
    "'''"
   ]
  }
 ],
 "metadata": {
  "kernelspec": {
   "display_name": "myenv",
   "language": "python",
   "name": "python3"
  },
  "language_info": {
   "codemirror_mode": {
    "name": "ipython",
    "version": 3
   },
   "file_extension": ".py",
   "mimetype": "text/x-python",
   "name": "python",
   "nbconvert_exporter": "python",
   "pygments_lexer": "ipython3",
   "version": "3.9.12"
  }
 },
 "nbformat": 4,
 "nbformat_minor": 2
}
