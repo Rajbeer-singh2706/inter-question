{
 "cells": [
  {
   "cell_type": "code",
   "execution_count": null,
   "metadata": {},
   "outputs": [],
   "source": [
    "'''\n",
    "SQL Problem-Solving Questions\n",
    "1) Complex Joins\n",
    "You have two tables: Orders and Customers. \n",
    "Write a SQL query to find all customers who have placed more than 5 orders. Ensure that your query is optimized for large datasets.\n",
    "\n",
    "2) Window Functions\n",
    "Q) Write a SQL query that ranks customers based on their total purchase amount. The ranking should reset for each region.\n",
    "\n",
    "\n",
    "3) Data Aggregation\n",
    "Q) Given a Sales table with Date, ProductID, and Amount columns, write a SQL query to calculate the 7-day rolling average of \n",
    "sales for each product.\n",
    "\n",
    "4) Recursive Query\n",
    "Question: Write a SQL query to find the manager of each employee in a company, where the Employees table has columns EmployeeID, ManagerID, and Name. Use a recursive CTE to achieve this.\n",
    "\n",
    "\n",
    "5) Data Cleaning\n",
    " You have a table with customer records, but some rows contain duplicate customer information. \n",
    " Write a SQL query to delete duplicate records, keeping only the first instance of each customer based on their email address.\n",
    "'''"
   ]
  }
 ],
 "metadata": {
  "language_info": {
   "name": "python"
  }
 },
 "nbformat": 4,
 "nbformat_minor": 2
}
