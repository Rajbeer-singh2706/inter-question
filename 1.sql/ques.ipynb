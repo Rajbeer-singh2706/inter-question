{
 "cells": [
  {
   "cell_type": "code",
   "execution_count": null,
   "metadata": {},
   "outputs": [],
   "source": [
    "'''\n",
    "A) SQL Basics & Advanced:\n",
    "\n",
    "1. What are window functions in SQL? Provide examples of how they are used.\n",
    "2. Explain the difference between INNER JOIN, LEFT JOIN, RIGHT JOIN, and FULL OUTER JOIN.\n",
    "3. How would you optimize a slow SQL query?\n",
    "4. Discuss the differences between OLAP and OLTP databases.\n",
    "\n",
    "B) Data Manipulation & Querying:\n",
    "\n",
    "1. Write a SQL query to find the second highest salary in an employee table.\n",
    "2. How would you handle NULL values in SQL? Provide examples.\n",
    "3. Explain the difference between WHERE and HAVING clauses.\n",
    "\n",
    "'''"
   ]
  },
  {
   "cell_type": "code",
   "execution_count": null,
   "metadata": {},
   "outputs": [],
   "source": [
    "# Problsm Solvin\n",
    "'''\n",
    "Q) Given a table of customer orders, write a SQL query to find the customer who made the most orders in the last month.\n",
    "Q) Write a SQL query to pivot a table, turning rows into columns.\n",
    "Q) How would you write a recursive query to generate a hierarchy from a self-referencing table?\n",
    "\n",
    "'''"
   ]
  }
 ],
 "metadata": {
  "language_info": {
   "name": "python"
  }
 },
 "nbformat": 4,
 "nbformat_minor": 2
}
