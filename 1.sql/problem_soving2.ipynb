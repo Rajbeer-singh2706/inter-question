{
 "cells": [
  {
   "cell_type": "code",
   "execution_count": null,
   "metadata": {},
   "outputs": [],
   "source": [
    "'''\n",
    "Select Nth maximum salary from a table\n",
    "Write a query to select Nth maximum salary from EMP table\n",
    "(or)\n",
    "Write a query to find 2nd, 3rd max salary from EMP table\n",
    "(or)\n",
    "Write a query to find 10 highest salary\n",
    "(Or)\n",
    "Write a query to find 4th highest salary (without analytical function)\n",
    "Answer:\n",
    "We can achieve this by using the correlated sub query. In the below example we are getting the 5th\n",
    "highest salary without using the Analytical function.\n",
    "\n",
    "\n",
    "select *\n",
    "from emp emp1\n",
    "where (5-1) =\n",
    "(\n",
    "select count(distinct(emp2.sal))\n",
    "from emp emp2\n",
    "where emp2.sal > emp1.sal\n",
    ")\n",
    "In the below example we are getting the 5th highest salary by using the Analytical function.\n",
    "select * from\n",
    "(\n",
    "select e.*,\n",
    "DENSE_RANK() over (order by sal DESC) RN\n",
    "from emp e\n",
    ")\n",
    "where RN=5\n",
    "\n",
    "'''"
   ]
  },
  {
   "cell_type": "code",
   "execution_count": null,
   "metadata": {},
   "outputs": [],
   "source": [
    "'''\n",
    "Select top N salaries from EMP table\n",
    "Write a query to select top N salaries from the EMP table\n",
    "(or)\n",
    "Write a query to select maximum N salaries from the EMP table\n",
    "Answer:\n",
    "We can achieve this by using the DENSE_RANK Analytical function. In the below example we are\n",
    "getting the TOP 5 salaries from the EMP table.\n",
    "\n",
    "select * from\n",
    "(\n",
    "select e.*,\n",
    "DENSE_RANK() over (order by sal DESC) RN\n",
    "from emp e\n",
    ")\n",
    "where RN <=5\n",
    "'''"
   ]
  },
  {
   "cell_type": "code",
   "execution_count": 1,
   "metadata": {},
   "outputs": [
    {
     "data": {
      "text/plain": [
       "'\\nSelect top N salaries from each Department of EMP table\\nWrite a query to select top N salaries from each department of the EMP table\\n(or)\\nWrite a query to select maximum N salaries from each department of the EMP table\\nAnswer:\\nWe can achieve this by using the DENSE_RANK Analytical function. In the below example we are\\ngetting the TOP 3 salaries for each department of the EMP table.\\nselect * from\\n(\\nselect e.*,\\nDENSE_RANK() over (partition by deptno order by sal DESC) RN\\nfrom emp e\\n)\\nwhere RN <=3\\n'"
      ]
     },
     "execution_count": 1,
     "metadata": {},
     "output_type": "execute_result"
    }
   ],
   "source": [
    "'''\n",
    "Select top N salaries from each Department of EMP table\n",
    "Write a query to select top N salaries from each department of the EMP table\n",
    "(or)\n",
    "Write a query to select maximum N salaries from each department of the EMP table\n",
    "Answer:\n",
    "We can achieve this by using the DENSE_RANK Analytical function. In the below example we are\n",
    "getting the TOP 3 salaries for each department of the EMP table.\n",
    "select * from\n",
    "(\n",
    "select e.*,\n",
    "DENSE_RANK() over (partition by deptno order by sal DESC) RN\n",
    "from emp e\n",
    ")\n",
    "where RN <=3\n",
    "'''"
   ]
  },
  {
   "cell_type": "code",
   "execution_count": 2,
   "metadata": {},
   "outputs": [
    {
     "data": {
      "text/plain": [
       "'\\nSelect/Delete duplicate rows from EMP table\\nWrite a query to select/delete duplicate rows from the EMP table\\nAnswer:\\nWe can achieve this by using the pseudo column ROWID.\\nselect * from emp\\nwhere rowid not in\\n(\\nselect min(rowid)\\n from emp\\n group by empno\\n);\\ndelete from emp\\nwhere rowid not in\\n(\\nselect min(rowid)\\n from emp\\n group by empno\\n);\\n'"
      ]
     },
     "execution_count": 2,
     "metadata": {},
     "output_type": "execute_result"
    }
   ],
   "source": [
    "'''\n",
    "Select/Delete duplicate rows from EMP table\n",
    "Write a query to select/delete duplicate rows from the EMP table\n",
    "Answer:\n",
    "We can achieve this by using the pseudo column ROWID.\n",
    "select * from emp\n",
    "where rowid not in\n",
    "(\n",
    "select min(rowid)\n",
    " from emp\n",
    " group by empno\n",
    ");\n",
    "delete from emp\n",
    "where rowid not in\n",
    "(\n",
    "select min(rowid)\n",
    " from emp\n",
    " group by empno\n",
    ");\n",
    "'''"
   ]
  },
  {
   "cell_type": "code",
   "execution_count": null,
   "metadata": {},
   "outputs": [],
   "source": [
    "'''\n",
    "Past 5 years Question.\n",
    "Write a query to find the employees who are working in the company for the past 5 years.\n",
    "Answer:\n",
    "We can achieve this using the ADD_MONTHS function.\n",
    "select * from emp where hiredate < add_months(sysdate,-60);\n",
    "'''"
   ]
  }
 ],
 "metadata": {
  "kernelspec": {
   "display_name": "myenv",
   "language": "python",
   "name": "python3"
  },
  "language_info": {
   "codemirror_mode": {
    "name": "ipython",
    "version": 3
   },
   "file_extension": ".py",
   "mimetype": "text/x-python",
   "name": "python",
   "nbconvert_exporter": "python",
   "pygments_lexer": "ipython3",
   "version": "3.9.12"
  }
 },
 "nbformat": 4,
 "nbformat_minor": 2
}
