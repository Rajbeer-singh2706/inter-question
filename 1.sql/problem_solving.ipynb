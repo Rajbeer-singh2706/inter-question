{
 "cells": [
  {
   "cell_type": "code",
   "execution_count": null,
   "metadata": {},
   "outputs": [],
   "source": [
    "### 1. **Top N per Group**\n",
    "'''\n",
    " **Problem:** You have a table of sales records with columns \n",
    "    `product_id`, `salesperson_id`, and `sales_amount`.\n",
    "Write a SQL query to find the top 3 sales amounts for each `salesperson_id`.\n",
    "\n",
    "SELECT\n",
    "         salesperson_id,\n",
    "         product_id,\n",
    "         sales_amount\n",
    "     FROM (\n",
    "         SELECT\n",
    "             salesperson_id,\n",
    "             product_id,\n",
    "             sales_amount,\n",
    "             ROW_NUMBER() OVER (PARTITION BY salesperson_id ORDER BY sales_amount DESC) AS rank\n",
    "         FROM sales\n",
    "     ) ranked_sales\n",
    "     WHERE rank <= 3;\n",
    "'''"
   ]
  },
  {
   "cell_type": "code",
   "execution_count": null,
   "metadata": {},
   "outputs": [],
   "source": [
    "### 2. **Running Total**\n",
    "'''\n",
    "   - **Problem:** Given a table \n",
    "   transactions\n",
    "   ============\n",
    "   `transaction_date`, `customer_id`, and `amount`,\n",
    "    write a query to calculate the running total of the `amount` for each `customer_id` ordered by `transaction_date`.\n",
    "   - **Expected Solution:**\n",
    "     ```sql\n",
    "     SELECT\n",
    "         transaction_date,\n",
    "         customer_id,\n",
    "         amount,\n",
    "         SUM(amount) OVER (PARTITION BY customer_id ORDER BY transaction_date) AS running_total\n",
    "     FROM transactions;\n",
    "'''"
   ]
  },
  {
   "cell_type": "code",
   "execution_count": 1,
   "metadata": {},
   "outputs": [
    {
     "data": {
      "text/plain": [
       "'\\n   - **Problem:** You have a table `orders` with columns \\n   `order_id` (sequential integer), `order_date`, and `customer_id`. \\n   Write a SQL query to identify any missing `order_id` values in the sequence.\\n   \\nSELECT\\n         order_id + 1 AS missing_order_id\\nFROM orders o1\\nWHERE NOT EXISTS (\\n         SELECT 1 FROM orders o2 WHERE o2.order_id = o1.order_id + 1\\n)\\nAND o1.order_id < (SELECT MAX(order_id) FROM orders);\\n'"
      ]
     },
     "execution_count": 1,
     "metadata": {},
     "output_type": "execute_result"
    }
   ],
   "source": [
    "### 3. **Identifying Gaps in Sequences**\n",
    "'''\n",
    "   - **Problem:** You have a table `orders` with columns \n",
    "   `order_id` (sequential integer), `order_date`, and `customer_id`. \n",
    "   Write a SQL query to identify any missing `order_id` values in the sequence.\n",
    "   \n",
    "SELECT\n",
    "         order_id + 1 AS missing_order_id\n",
    "FROM orders o1\n",
    "WHERE NOT EXISTS (\n",
    "         SELECT 1 FROM orders o2 WHERE o2.order_id = o1.order_id + 1\n",
    ")\n",
    "AND o1.order_id < (SELECT MAX(order_id) FROM orders);\n",
    "'''"
   ]
  },
  {
   "cell_type": "code",
   "execution_count": 2,
   "metadata": {},
   "outputs": [
    {
     "data": {
      "text/plain": [
       "'\\n   - **Problem:** Given a table `employees` with columns `employee_id`, `name`, `email`, and `hire_date`, write a query to find all employees who have the same `email` but different `employee_id`.\\n   - **Expected Solution:**\\n\\nSELECT\\n         email,\\n         COUNT(*) AS count\\n     FROM employees\\n     GROUP BY email\\n     HAVING COUNT(*) > 1;\\n'"
      ]
     },
     "execution_count": 2,
     "metadata": {},
     "output_type": "execute_result"
    }
   ],
   "source": [
    "### 4. **Finding Duplicates**\n",
    "'''\n",
    "   - **Problem:** Given a table `employees` with columns `employee_id`, `name`, `email`, and `hire_date`, write a query to find all employees who have the same `email` but different `employee_id`.\n",
    "   - **Expected Solution:**\n",
    "\n",
    "SELECT\n",
    "         email,\n",
    "         COUNT(*) AS count\n",
    "     FROM employees\n",
    "     GROUP BY email\n",
    "     HAVING COUNT(*) > 1;\n",
    "'''"
   ]
  },
  {
   "cell_type": "code",
   "execution_count": null,
   "metadata": {},
   "outputs": [],
   "source": [
    "### 5. **Complex Joins and Aggregation**\n",
    "'''\n",
    "- **Problem:** You have two tables: \n",
    "   `customers` (with columns `customer_id`, `name`, and `city`) and \n",
    "   `orders` (with columns `order_id`, `customer_id`, `order_date`, and `amount`). \n",
    "   Write a query to find the total order amount for each customer, including customers who have not placed any orders.\n",
    "\n",
    "SELECT\n",
    "         c.customer_id,\n",
    "         c.name,\n",
    "         COALESCE(SUM(o.amount), 0) AS total_order_amount\n",
    "     FROM customers c\n",
    "     LEFT JOIN orders o ON c.customer_id = o.customer_id\n",
    "     GROUP BY c.customer_id, c.name;\n",
    "\n",
    "'''"
   ]
  }
 ],
 "metadata": {
  "kernelspec": {
   "display_name": "myenv",
   "language": "python",
   "name": "python3"
  },
  "language_info": {
   "codemirror_mode": {
    "name": "ipython",
    "version": 3
   },
   "file_extension": ".py",
   "mimetype": "text/x-python",
   "name": "python",
   "nbconvert_exporter": "python",
   "pygments_lexer": "ipython3",
   "version": "3.9.12"
  }
 },
 "nbformat": 4,
 "nbformat_minor": 2
}
